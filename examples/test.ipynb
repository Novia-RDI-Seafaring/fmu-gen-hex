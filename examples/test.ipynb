{
 "cells": [
  {
   "cell_type": "code",
   "execution_count": 6,
   "metadata": {},
   "outputs": [
    {
     "name": "stdout",
     "output_type": "stream",
     "text": [
      "The autoreload extension is already loaded. To reload it, use:\n",
      "  %reload_ext autoreload\n"
     ]
    }
   ],
   "source": [
    "%load_ext autoreload\n",
    "%autoreload 2\n",
    "\n",
    "from meri import MERI, MERI_CONFIGS_PATH\n",
    "import json\n",
    "import os\n",
    "import sys\n",
    "\n",
    "from fmu_gen_hex.callbacks import *\n",
    "from fmu_gen_hex.data_extraction import param_dict_to_param_formatted_param_list\n",
    "from fmu_gen_hex.data_extraction import convert_tuple_units, convert_units, convert_side_units\n",
    "\n",
    "base_path = os.path.abspath(os.path.join(os.pardir))"
   ]
  },
  {
   "cell_type": "markdown",
   "metadata": {},
   "source": [
    "## Extract parameters from datasheet"
   ]
  },
  {
   "cell_type": "code",
   "execution_count": 7,
   "metadata": {},
   "outputs": [
    {
     "name": "stdout",
     "output_type": "stream",
     "text": [
      "Running configuration:  <bound method AttrDict.to_dict of {'DEVICE': 'cuda',\n",
      " 'LIB': 'PT',\n",
      " 'PT': {'LAYOUT': {'FILTER': [], 'WEIGHTS': 'layout/docalynet/yolov10x_best.pt'}}}>\n"
     ]
    },
    {
     "name": "stderr",
     "output_type": "stream",
     "text": [
      "\u001b[32m[1010 08:54.49 @doctectionpipe.py:84]\u001b[0m  \u001b[32mINF\u001b[0m  \u001b[97mProcessing he-specification_0.pdf\u001b[0m\n"
     ]
    },
    {
     "name": "stdout",
     "output_type": "stream",
     "text": [
      "Building pipeline from components:  [<meri.layout.pipeline_components.add_pdf_info_component.AddPDFInfoComponent object at 0x7fb13a440f80>, <meri.layout.pipeline_components.layout_detection_component.LayoutDetectorComponent object at 0x7fb287560830>]\n"
     ]
    },
    {
     "name": "stderr",
     "output_type": "stream",
     "text": [
      "\u001b[32m[1010 08:54.50 @context.py:126]\u001b[0m  \u001b[32mINF\u001b[0m  \u001b[97mAddPDFInfoComponent total: 0.1529 sec.\u001b[0m\n"
     ]
    },
    {
     "name": "stdout",
     "output_type": "stream",
     "text": [
      "\n",
      "0: 480x640 1 Caption, 1 Picture, 42.6ms\n",
      "Speed: 10.6ms preprocess, 42.6ms inference, 41.6ms postprocess per image at shape (1, 3, 480, 640)\n"
     ]
    },
    {
     "name": "stderr",
     "output_type": "stream",
     "text": [
      "\u001b[32m[1010 08:54.51 @context.py:126]\u001b[0m  \u001b[32mINF\u001b[0m  \u001b[97mLayoutDetectorComponent total: 0.9911 sec.\u001b[0m\n",
      "100%|██████████| 1/1 [00:00<00:00, 50.97it/s]\n"
     ]
    },
    {
     "name": "stdout",
     "output_type": "stream",
     "text": [
      "computing with character threshold:  450000\n",
      "Number of chunks: 1\n",
      "Number of content chunks: 1\n",
      "Round:  0\n"
     ]
    },
    {
     "name": "stderr",
     "output_type": "stream",
     "text": [
      "Processing content chunks:   0%|          | 0/1 [00:00<?, ?it/s]"
     ]
    },
    {
     "name": "stdout",
     "output_type": "stream",
     "text": [
      "Estimated input token:  410\n"
     ]
    },
    {
     "name": "stderr",
     "output_type": "stream",
     "text": [
      "\u001b[32m[1010 08:55.18 @_client.py:1038]\u001b[0m  \u001b[32mINF\u001b[0m  \u001b[97mHTTP Request: POST https://api.openai.com/v1/chat/completions \"HTTP/1.1 200 OK\"\u001b[0m\n",
      "Processing content chunks: 100%|██████████| 1/1 [00:26<00:00, 26.03s/it]\n"
     ]
    },
    {
     "name": "stdout",
     "output_type": "stream",
     "text": [
      "Actual Token Usage gpt-4o-mini: ('completion_tokens', 1103)\n",
      "Round:  1\n"
     ]
    },
    {
     "name": "stderr",
     "output_type": "stream",
     "text": [
      "Processing content chunks:   0%|          | 0/1 [00:00<?, ?it/s]"
     ]
    },
    {
     "name": "stdout",
     "output_type": "stream",
     "text": [
      "Estimated input token:  1932\n"
     ]
    },
    {
     "name": "stderr",
     "output_type": "stream",
     "text": [
      "\u001b[32m[1010 08:55.26 @_client.py:1038]\u001b[0m  \u001b[32mINF\u001b[0m  \u001b[97mHTTP Request: POST https://api.openai.com/v1/chat/completions \"HTTP/1.1 200 OK\"\u001b[0m\n",
      "Processing content chunks: 100%|██████████| 1/1 [00:08<00:00,  8.64s/it]"
     ]
    },
    {
     "name": "stdout",
     "output_type": "stream",
     "text": [
      "Actual Token Usage gpt-4o-mini: ('completion_tokens', 476)\n"
     ]
    },
    {
     "name": "stderr",
     "output_type": "stream",
     "text": [
      "\n"
     ]
    }
   ],
   "source": [
    "pdf_path = os.path.join(base_path, \"demo/data/he-specification.pdf\")\n",
    "schema_path = os.path.join(base_path, \"demo/data/he-spec_schema.json\")\n",
    "\n",
    "with open(schema_path) as f:\n",
    "    schema = json.load(f)\n",
    "\n",
    "# use default configurartion\n",
    "config_path=os.path.join(MERI_CONFIGS_PATH, \"meri_yolo.yaml\")\n",
    "\n",
    "meri = MERI(pdf_path=pdf_path, config_yaml_path=config_path)\n",
    "\n",
    "# populate provided json schema\n",
    "extracted_parameters = meri.run(json.dumps(schema))"
   ]
  },
  {
   "cell_type": "markdown",
   "metadata": {},
   "source": [
    "## Format parameters"
   ]
  },
  {
   "cell_type": "code",
   "execution_count": 8,
   "metadata": {},
   "outputs": [],
   "source": [
    "params = param_dict_to_param_formatted_param_list(extracted_parameters)"
   ]
  },
  {
   "cell_type": "markdown",
   "metadata": {},
   "source": [
    "## Find best K"
   ]
  },
  {
   "cell_type": "code",
   "execution_count": 9,
   "metadata": {},
   "outputs": [
    {
     "name": "stdout",
     "output_type": "stream",
     "text": [
      "       message: Optimization terminated successfully.\n",
      "       success: True\n",
      "        status: 0\n",
      "           fun: 13397.000000000004\n",
      "             x: [ 1.000e+04]\n",
      "           nit: 24\n",
      "          nfev: 71\n",
      " final_simplex: (array([[ 1.000e+04],\n",
      "                       [ 1.000e+04]]), array([ 1.340e+04,  1.340e+04]))\n",
      "    Time  Temperature       Name\n",
      "0    0.0          0.0  Cold Side\n",
      "1    0.1          0.0  Cold Side\n",
      "2    0.2          0.0  Cold Side\n",
      "3    0.3          0.0  Cold Side\n",
      "4    0.4          0.0  Cold Side\n",
      "5    0.5          0.0  Cold Side\n",
      "6    0.6          0.0  Cold Side\n",
      "7    0.7          0.0  Cold Side\n",
      "8    0.8          0.0  Cold Side\n",
      "9    0.9          0.0  Cold Side\n",
      "10   1.0         68.0  Cold Side\n",
      "11   0.0         91.0   Hot Side\n",
      "12   0.1          0.0   Hot Side\n",
      "13   0.2          0.0   Hot Side\n",
      "14   0.3          0.0   Hot Side\n",
      "15   0.4          0.0   Hot Side\n",
      "16   0.5          0.0   Hot Side\n",
      "17   0.6          0.0   Hot Side\n",
      "18   0.7          0.0   Hot Side\n",
      "19   0.8          0.0   Hot Side\n",
      "20   0.9          0.0   Hot Side\n",
      "21   1.0          0.0   Hot Side\n"
     ]
    }
   ],
   "source": [
    "ax, K = optimize_callback(*params, 10, 10000)"
   ]
  },
  {
   "cell_type": "markdown",
   "metadata": {},
   "source": [
    "## Compile FMU and export"
   ]
  },
  {
   "cell_type": "code",
   "execution_count": 10,
   "metadata": {},
   "outputs": [
    {
     "name": "stdout",
     "output_type": "stream",
     "text": [
      "-- Configuring done\n",
      "-- Generating done\n",
      "-- Build files have been written to: /workspaces/fmu-gen-hex/fmu_gen_hex/hex_delta55/build\n",
      "\u001b[35m\u001b[1mScanning dependencies of target hex_delta55\u001b[0m\n",
      "[ 25%] \u001b[32mBuilding CXX object CMakeFiles/hex_delta55.dir/src/hex_delta55.cpp.o\u001b[0m\n",
      "[ 50%] \u001b[32m\u001b[1mLinking CXX shared library libhex_delta55.so\u001b[0m\n",
      "[100%] Built target hex_delta55\n"
     ]
    },
    {
     "data": {
      "text/plain": [
       "'/workspaces/fmu-gen-hex/examples/hex_delta55_exported.fmu'"
      ]
     },
     "execution_count": 10,
     "metadata": {},
     "output_type": "execute_result"
    }
   ],
   "source": [
    "target_dir = os.path.join(base_path, \"examples\")\n",
    "export_fmu_callback(100,10,\"Parallel flow\",4190,4190,68,91,46,56,400,400,target_dir)"
   ]
  }
 ],
 "metadata": {
  "kernelspec": {
   "display_name": "Python 3",
   "language": "python",
   "name": "python3"
  },
  "language_info": {
   "codemirror_mode": {
    "name": "ipython",
    "version": 3
   },
   "file_extension": ".py",
   "mimetype": "text/x-python",
   "name": "python",
   "nbconvert_exporter": "python",
   "pygments_lexer": "ipython3",
   "version": "3.12.2"
  }
 },
 "nbformat": 4,
 "nbformat_minor": 2
}
