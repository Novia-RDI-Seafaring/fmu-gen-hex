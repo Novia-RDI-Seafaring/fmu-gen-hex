{
 "cells": [
  {
   "cell_type": "code",
   "execution_count": 1,
   "metadata": {},
   "outputs": [
    {
     "name": "stderr",
     "output_type": "stream",
     "text": [
      "/root/miniconda3/lib/python3.12/site-packages/tqdm/auto.py:21: TqdmWarning: IProgress not found. Please update jupyter and ipywidgets. See https://ipywidgets.readthedocs.io/en/stable/user_install.html\n",
      "  from .autonotebook import tqdm as notebook_tqdm\n",
      "\u001b[32m[1010 07:26.34 @file_utils.py:31]\u001b[0m  \u001b[32mINF\u001b[0m  \u001b[97mPyTorch version 2.4.1 available.\u001b[0m\n"
     ]
    },
    {
     "name": "stdout",
     "output_type": "stream",
     "text": [
      "CustomLayoutTypes registered: True\n"
     ]
    }
   ],
   "source": [
    "%load_ext autoreload\n",
    "%autoreload 2\n",
    "\n",
    "from meri import MERI, MERI_CONFIGS_PATH\n",
    "import json\n",
    "import os\n",
    "import sys\n",
    "\n",
    "from fmu_gen_hex.callbacks import *\n",
    "from fmu_gen_hex.data_extraction import param_dict_to_param_formatted_param_list\n",
    "from fmu_gen_hex.data_extraction import convert_tuple_units, convert_units, convert_side_units"
   ]
  },
  {
   "cell_type": "code",
   "execution_count": 3,
   "metadata": {},
   "outputs": [
    {
     "name": "stdout",
     "output_type": "stream",
     "text": [
      "Running configuration:  <bound method AttrDict.to_dict of {'DEVICE': 'cuda',\n",
      " 'LIB': 'PT',\n",
      " 'PT': {'LAYOUT': {'FILTER': [], 'WEIGHTS': 'layout/docalynet/yolov10x_best.pt'}}}>\n"
     ]
    },
    {
     "name": "stderr",
     "output_type": "stream",
     "text": [
      "\u001b[32m[1010 07:27.04 @doctectionpipe.py:84]\u001b[0m  \u001b[32mINF\u001b[0m  \u001b[97mProcessing he-specification_0.pdf\u001b[0m\n"
     ]
    },
    {
     "name": "stdout",
     "output_type": "stream",
     "text": [
      "Building pipeline from components:  [<meri.layout.pipeline_components.add_pdf_info_component.AddPDFInfoComponent object at 0x7fc36c221f10>, <meri.layout.pipeline_components.layout_detection_component.LayoutDetectorComponent object at 0x7fc1b7bae780>]\n"
     ]
    },
    {
     "name": "stderr",
     "output_type": "stream",
     "text": [
      "\u001b[32m[1010 07:27.05 @context.py:126]\u001b[0m  \u001b[32mINF\u001b[0m  \u001b[97mAddPDFInfoComponent total: 0.0923 sec.\u001b[0m\n"
     ]
    },
    {
     "name": "stdout",
     "output_type": "stream",
     "text": [
      "\n",
      "0: 480x640 1 Caption, 1 Picture, 73.7ms\n",
      "Speed: 3.3ms preprocess, 73.7ms inference, 1.0ms postprocess per image at shape (1, 3, 480, 640)\n"
     ]
    },
    {
     "name": "stderr",
     "output_type": "stream",
     "text": [
      "\u001b[32m[1010 07:27.06 @context.py:126]\u001b[0m  \u001b[32mINF\u001b[0m  \u001b[97mLayoutDetectorComponent total: 0.6558 sec.\u001b[0m\n",
      "100%|██████████| 1/1 [00:00<00:00, 83.58it/s]\n"
     ]
    },
    {
     "name": "stdout",
     "output_type": "stream",
     "text": [
      "computing with character threshold:  450000\n",
      "Number of chunks: 1\n",
      "Number of content chunks: 1\n",
      "Round:  0\n"
     ]
    },
    {
     "name": "stderr",
     "output_type": "stream",
     "text": [
      "Processing content chunks:   0%|          | 0/1 [00:00<?, ?it/s]"
     ]
    },
    {
     "name": "stdout",
     "output_type": "stream",
     "text": [
      "Estimated input token:  410\n"
     ]
    },
    {
     "name": "stderr",
     "output_type": "stream",
     "text": [
      "\u001b[32m[1010 07:27.24 @_client.py:1038]\u001b[0m  \u001b[32mINF\u001b[0m  \u001b[97mHTTP Request: POST https://api.openai.com/v1/chat/completions \"HTTP/1.1 200 OK\"\u001b[0m\n",
      "Processing content chunks: 100%|██████████| 1/1 [00:17<00:00, 17.31s/it]\n"
     ]
    },
    {
     "name": "stdout",
     "output_type": "stream",
     "text": [
      "Actual Token Usage gpt-4o-mini: ('completion_tokens', 1105)\n",
      "Round:  1\n"
     ]
    },
    {
     "name": "stderr",
     "output_type": "stream",
     "text": [
      "Processing content chunks:   0%|          | 0/1 [00:00<?, ?it/s]"
     ]
    },
    {
     "name": "stdout",
     "output_type": "stream",
     "text": [
      "Estimated input token:  1934\n"
     ]
    },
    {
     "name": "stderr",
     "output_type": "stream",
     "text": [
      "\u001b[32m[1010 07:27.49 @_client.py:1038]\u001b[0m  \u001b[32mINF\u001b[0m  \u001b[97mHTTP Request: POST https://api.openai.com/v1/chat/completions \"HTTP/1.1 200 OK\"\u001b[0m\n",
      "Processing content chunks: 100%|██████████| 1/1 [00:25<00:00, 25.26s/it]"
     ]
    },
    {
     "name": "stdout",
     "output_type": "stream",
     "text": [
      "Actual Token Usage gpt-4o-mini: ('completion_tokens', 1105)\n"
     ]
    },
    {
     "name": "stderr",
     "output_type": "stream",
     "text": [
      "\n"
     ]
    }
   ],
   "source": [
    "pdf_path ='/workspaces/fmu-gen-hex/demo/data/he-specification.pdf'\n",
    "\n",
    "# must be a valid json schema\n",
    "schema_path ='/workspaces/fmu-gen-hex/demo/data/he-spec_schema.json'\n",
    "with open(schema_path) as f:\n",
    "    schema = json.load(f)\n",
    "\n",
    "# use default configurartion\n",
    "config_path=os.path.join(MERI_CONFIGS_PATH, \"meri_yolo.yaml\")\n",
    "\n",
    "meri = MERI(pdf_path=pdf_path, config_yaml_path=config_path)\n",
    "\n",
    "# populate provided json schema\n",
    "extracted_parameters = meri.run(json.dumps(schema))"
   ]
  },
  {
   "cell_type": "code",
   "execution_count": 4,
   "metadata": {},
   "outputs": [],
   "source": [
    "params = param_dict_to_param_formatted_param_list(extracted_parameters)"
   ]
  },
  {
   "cell_type": "code",
   "execution_count": 5,
   "metadata": {},
   "outputs": [
    {
     "name": "stdout",
     "output_type": "stream",
     "text": [
      "       message: Optimization terminated successfully.\n",
      "       success: True\n",
      "        status: 0\n",
      "           fun: 0.03731911652692198\n",
      "             x: [ 2.262e+05]\n",
      "           nit: 40\n",
      "          nfev: 87\n",
      " final_simplex: (array([[ 2.262e+05],\n",
      "                       [ 2.262e+05]]), array([ 3.732e-02,  3.732e-02]))\n",
      "    Time  Temperature       Name\n",
      "0    0.0    88.877380  Cold Side\n",
      "1    0.1    87.608956  Cold Side\n",
      "2    0.2    86.205179  Cold Side\n",
      "3    0.3    84.651606  Cold Side\n",
      "4    0.4    82.932251  Cold Side\n",
      "5    0.5    81.029424  Cold Side\n",
      "6    0.6    78.923547  Cold Side\n",
      "7    0.7    76.592952  Cold Side\n",
      "8    0.8    74.013660  Cold Side\n",
      "9    0.9    71.159133  Cold Side\n",
      "10   1.0    68.000000  Cold Side\n",
      "11   0.0    91.000000   Hot Side\n",
      "12   0.1    89.958081   Hot Side\n",
      "13   0.2    88.804978   Hot Side\n",
      "14   0.3    87.528828   Hot Side\n",
      "15   0.4    86.116501   Hot Side\n",
      "16   0.5    84.553465   Hot Side\n",
      "17   0.6    82.823637   Hot Side\n",
      "18   0.7    80.909220   Hot Side\n",
      "19   0.8    78.790516   Hot Side\n",
      "20   0.9    76.445726   Hot Side\n",
      "21   1.0    73.850724   Hot Side\n"
     ]
    }
   ],
   "source": [
    "ax, K = optimize_callback(*params, 10, 10000)"
   ]
  },
  {
   "cell_type": "code",
   "execution_count": 20,
   "metadata": {},
   "outputs": [
    {
     "name": "stdout",
     "output_type": "stream",
     "text": [
      "/workspaces/fmu-gen-hex/fmu_gen_hex/hex_delta55\n",
      "-- Configuring done\n",
      "-- Generating done\n",
      "-- Build files have been written to: /workspaces/fmu-gen-hex/fmu_gen_hex/hex_delta55/build\n",
      "\u001b[35m\u001b[1mScanning dependencies of target hex_delta55\u001b[0m\n",
      "[ 25%] \u001b[32mBuilding CXX object CMakeFiles/hex_delta55.dir/src/hex_delta55.cpp.o\u001b[0m\n",
      "[ 50%] \u001b[32m\u001b[1mLinking CXX shared library libhex_delta55.so\u001b[0m\n",
      "[100%] Built target hex_delta55\n"
     ]
    }
   ],
   "source": [
    "target_dir = \"/workspaces/fmu-gen-hex/\"\n",
    "export_fmu_callback(100,10,\"Parallel flow\",4190,4190,68,91,46,56,400,400,target_dir)"
   ]
  }
 ],
 "metadata": {
  "kernelspec": {
   "display_name": "Python 3",
   "language": "python",
   "name": "python3"
  },
  "language_info": {
   "codemirror_mode": {
    "name": "ipython",
    "version": 3
   },
   "file_extension": ".py",
   "mimetype": "text/x-python",
   "name": "python",
   "nbconvert_exporter": "python",
   "pygments_lexer": "ipython3",
   "version": "3.12.2"
  }
 },
 "nbformat": 4,
 "nbformat_minor": 2
}
